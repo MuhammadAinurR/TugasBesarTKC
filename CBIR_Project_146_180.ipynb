{
  "nbformat": 4,
  "nbformat_minor": 0,
  "metadata": {
    "colab": {
      "name": "CBIR.ipynb",
      "provenance": [],
      "collapsed_sections": [],
      "include_colab_link": true
    },
    "kernelspec": {
      "name": "python3",
      "display_name": "Python 3"
    },
    "language_info": {
      "name": "python"
    }
  },
  "cells": [
    {
      "cell_type": "markdown",
      "metadata": {
        "id": "view-in-github",
        "colab_type": "text"
      },
      "source": [
        "<a href=\"https://colab.research.google.com/github/MuhammadAinurR/TugasBesarTKC/blob/main/CBIR_Project_146_180.ipynb\" target=\"_parent\"><img src=\"https://colab.research.google.com/assets/colab-badge.svg\" alt=\"Open In Colab\"/></a>"
      ]
    },
    {
      "cell_type": "code",
      "metadata": {
        "id": "XgfZXQVu0U7a"
      },
      "source": [
        "import pandas as pd\n",
        "import os\n",
        "import numpy as np\n",
        "import matplotlib.pyplot as plt\n",
        "%matplotlib inline\n",
        "from sklearn.metrics import classification_report,confusion_matrix\n",
        "from tensorflow.keras.preprocessing.image import ImageDataGenerator\n",
        "from tensorflow.keras.models import Sequential\n",
        "from tensorflow.keras.layers import InputLayer, Dense, Conv2D, MaxPool2D, Flatten, BatchNormalization, Dropout, AveragePooling2D\n",
        "from tensorflow.keras.optimizers import Adam, SGD\n",
        "from google.colab import files"
      ],
      "execution_count": 1,
      "outputs": []
    },
    {
      "cell_type": "code",
      "metadata": {
        "id": "zKEZ42vPrJDa",
        "colab": {
          "base_uri": "https://localhost:8080/"
        },
        "outputId": "320336a0-8562-499f-8d74-ccdd5e985659"
      },
      "source": [
        "from google.colab import drive\n",
        "drive.mount('/content/drive')\n",
        "%cd /content/drive/MyDrive/TKC/"
      ],
      "execution_count": 3,
      "outputs": [
        {
          "output_type": "stream",
          "name": "stdout",
          "text": [
            "Mounted at /content/drive\n",
            "/content/drive/MyDrive/TKC\n"
          ]
        }
      ]
    },
    {
      "cell_type": "code",
      "metadata": {
        "id": "5fooQwizr33j"
      },
      "source": [
        "import os\n",
        "import cv2\n",
        "import numpy as np\n",
        "\n",
        "# Gather data train\n",
        "train_data = []\n",
        "train_label = []\n",
        "\n",
        "train_dir='/content/drive/MyDrive/TKC/train'\n",
        "for r, d, f in os.walk(train_dir):\n",
        "    for file in f:\n",
        "        if \".jpg\" in file:\n",
        "            imagePath = os.path.join(r, file)\n",
        "            image = cv2.imread(imagePath)\n",
        "            image = cv2.resize(image, (150,150))\n",
        "            train_data.append(image)\n",
        "            label = imagePath.split(os.path.sep)[-2]\n",
        "            train_label.append(label)\n",
        "\n",
        "train_data = np.array(train_data)\n",
        "train_label = np.array(train_label)"
      ],
      "execution_count": 4,
      "outputs": []
    },
    {
      "cell_type": "code",
      "metadata": {
        "id": "jdXHVQDh3byk"
      },
      "source": [
        "# Gather Data Validation\n",
        "val_data = []\n",
        "val_label = []\n",
        "\n",
        "testi_dir='/content/drive/MyDrive/TKC/valid'\n",
        "for r, d, f in os.walk(testi_dir):\n",
        "    for file in f:\n",
        "        if \".jpg\" in file:\n",
        "            imagePath = os.path.join(r, file)\n",
        "            image = cv2.imread(imagePath)\n",
        "            image = cv2.resize(image, (150,150))\n",
        "            val_data.append(image)\n",
        "            label = imagePath.split(os.path.sep)[-2]\n",
        "            val_label.append(label)\n",
        "val_data = np.array(val_data)\n",
        "val_label = np.array(val_label)"
      ],
      "execution_count": 5,
      "outputs": []
    },
    {
      "cell_type": "code",
      "metadata": {
        "id": "e-Z-Nz9o9XfG",
        "colab": {
          "base_uri": "https://localhost:8080/"
        },
        "outputId": "21287bc2-1256-4e29-e221-bfbd5ce6a149"
      },
      "source": [
        "print(\"Train Data       = \", train_data.shape)\n",
        "print(\"Train Label      = \", train_label.shape)\n",
        "print(\"Validation Data  = \", val_data.shape)\n",
        "print(\"Validation Label = \", val_label.shape)"
      ],
      "execution_count": 6,
      "outputs": [
        {
          "output_type": "stream",
          "name": "stdout",
          "text": [
            "Train Data       =  (6149, 150, 150, 3)\n",
            "Train Label      =  (6149,)\n",
            "Validation Data  =  (1020, 150, 150, 3)\n",
            "Validation Label =  (1020,)\n"
          ]
        }
      ]
    },
    {
      "cell_type": "code",
      "metadata": {
        "id": "2r_QsGWfMfk2",
        "colab": {
          "base_uri": "https://localhost:8080/"
        },
        "outputId": "9ea29fb3-44cf-42b8-d63d-e777ca372c86"
      },
      "source": [
        "# Normalisasi dataset\n",
        "print(\"Data sebelum di-normalisasi \", train_data[0][0][0])\n",
        "\n",
        "x_train = train_data.astype('float32') / 255.0\n",
        "x_val = val_data.astype('float32') / 255.0\n",
        "print(\"Data setelah di-normalisasi \", x_train[0][0][0])"
      ],
      "execution_count": 7,
      "outputs": [
        {
          "output_type": "stream",
          "name": "stdout",
          "text": [
            "Data sebelum di-normalisasi  [ 75  96 128]\n",
            "Data setelah di-normalisasi  [0.29411766 0.3764706  0.5019608 ]\n"
          ]
        }
      ]
    },
    {
      "cell_type": "code",
      "metadata": {
        "colab": {
          "base_uri": "https://localhost:8080/"
        },
        "id": "tiwXF7-mMj4n",
        "outputId": "8d57f22d-53b8-47fe-90c3-e709aa7f0b5e"
      },
      "source": [
        "# Transformasi label encoder\n",
        "from sklearn.preprocessing import LabelEncoder\n",
        "\n",
        "print(\"Label sebelum di-encoder \", train_label[995:1005])\n",
        "\n",
        "lb = LabelEncoder()\n",
        "y_train = lb.fit_transform(train_label)\n",
        "y_val = lb.fit_transform(val_label)\n",
        "\n",
        "print(\"Label setelah di-encoder \", y_train[995:1005])"
      ],
      "execution_count": 8,
      "outputs": [
        {
          "output_type": "stream",
          "name": "stdout",
          "text": [
            "Label sebelum di-encoder  ['train' 'train' 'train' 'train' 'train' 'train' 'train' 'train' 'train'\n",
            " 'train']\n",
            "Label setelah di-encoder  [0 0 0 0 0 0 0 0 0 0]\n"
          ]
        }
      ]
    },
    {
      "cell_type": "code",
      "metadata": {
        "id": "dg3Kf399Qqpb"
      },
      "source": [
        "from tensorflow.keras.models import Sequential\n",
        "from tensorflow.keras.layers import InputLayer, Dense, Conv2D, MaxPool2D, Flatten"
      ],
      "execution_count": 9,
      "outputs": []
    },
    {
      "cell_type": "code",
      "metadata": {
        "colab": {
          "base_uri": "https://localhost:8080/"
        },
        "id": "A7DRL8SvUd16",
        "outputId": "70e79789-cee5-401f-8ab2-55e4abb6eac5"
      },
      "source": [
        "# Feature Extraction Layer\n",
        "model = Sequential()\n",
        "\n",
        "model.add(InputLayer(input_shape=[150,150,3]))\n",
        "model.add(Conv2D(filters=16, kernel_size=3, strides=1, padding='same', activation='relu'))\n",
        "model.add(MaxPool2D(pool_size=2, padding='same'))\n",
        "model.add(Conv2D(filters=32, kernel_size=3, strides=1, padding='same', activation='relu'))\n",
        "model.add(MaxPool2D(pool_size=2, padding='same'))\n",
        "model.add(Conv2D(filters=64, kernel_size=3, strides=1, padding='same', activation='relu'))\n",
        "model.add(MaxPool2D(pool_size=2, padding='same'))\n",
        "model.add(Flatten())\n",
        "\n",
        "# Fully Connected Layer\n",
        "model.add(Dense(128, activation='relu'))\n",
        "model.add(Dense(1, activation='sigmoid'))\n",
        "\n",
        "# Print model summary\n",
        "print(model.summary())"
      ],
      "execution_count": 10,
      "outputs": [
        {
          "output_type": "stream",
          "name": "stdout",
          "text": [
            "Model: \"sequential\"\n",
            "_________________________________________________________________\n",
            " Layer (type)                Output Shape              Param #   \n",
            "=================================================================\n",
            " conv2d (Conv2D)             (None, 150, 150, 16)      448       \n",
            "                                                                 \n",
            " max_pooling2d (MaxPooling2D  (None, 75, 75, 16)       0         \n",
            " )                                                               \n",
            "                                                                 \n",
            " conv2d_1 (Conv2D)           (None, 75, 75, 32)        4640      \n",
            "                                                                 \n",
            " max_pooling2d_1 (MaxPooling  (None, 38, 38, 32)       0         \n",
            " 2D)                                                             \n",
            "                                                                 \n",
            " conv2d_2 (Conv2D)           (None, 38, 38, 64)        18496     \n",
            "                                                                 \n",
            " max_pooling2d_2 (MaxPooling  (None, 19, 19, 64)       0         \n",
            " 2D)                                                             \n",
            "                                                                 \n",
            " flatten (Flatten)           (None, 23104)             0         \n",
            "                                                                 \n",
            " dense (Dense)               (None, 128)               2957440   \n",
            "                                                                 \n",
            " dense_1 (Dense)             (None, 1)                 129       \n",
            "                                                                 \n",
            "=================================================================\n",
            "Total params: 2,981,153\n",
            "Trainable params: 2,981,153\n",
            "Non-trainable params: 0\n",
            "_________________________________________________________________\n",
            "None\n"
          ]
        }
      ]
    },
    {
      "cell_type": "code",
      "metadata": {
        "id": "JH5eFcqfUqWA"
      },
      "source": [
        "# Compile model\n",
        "from tensorflow.keras.optimizers import Adam\n",
        "\n",
        "model.compile(optimizer=Adam(learning_rate=0.001), \n",
        "              loss='binary_crossentropy', \n",
        "              metrics=['acc'])"
      ],
      "execution_count": 11,
      "outputs": []
    },
    {
      "cell_type": "code",
      "metadata": {
        "colab": {
          "base_uri": "https://localhost:8080/"
        },
        "id": "XwHKmBtsUxyL",
        "outputId": "b09df3a5-6b56-482d-9b8f-9bf7f2e5bd39"
      },
      "source": [
        "H = model.fit(x_train, y_train, batch_size=20, epochs=10, validation_data=(x_val, y_val))"
      ],
      "execution_count": 13,
      "outputs": [
        {
          "output_type": "stream",
          "name": "stdout",
          "text": [
            "Epoch 1/10\n",
            "308/308 [==============================] - 134s 434ms/step - loss: 1.5047e-16 - acc: 1.0000 - val_loss: 5.4885e-15 - val_acc: 1.0000\n",
            "Epoch 2/10\n",
            "308/308 [==============================] - 133s 433ms/step - loss: 1.5047e-16 - acc: 1.0000 - val_loss: 5.4885e-15 - val_acc: 1.0000\n",
            "Epoch 3/10\n",
            "308/308 [==============================] - 133s 433ms/step - loss: 1.5047e-16 - acc: 1.0000 - val_loss: 5.4885e-15 - val_acc: 1.0000\n",
            "Epoch 4/10\n",
            "308/308 [==============================] - 134s 435ms/step - loss: 1.5047e-16 - acc: 1.0000 - val_loss: 5.4885e-15 - val_acc: 1.0000\n",
            "Epoch 5/10\n",
            "308/308 [==============================] - 134s 435ms/step - loss: 1.5047e-16 - acc: 1.0000 - val_loss: 5.4885e-15 - val_acc: 1.0000\n",
            "Epoch 6/10\n",
            "308/308 [==============================] - 134s 435ms/step - loss: 1.5047e-16 - acc: 1.0000 - val_loss: 5.4885e-15 - val_acc: 1.0000\n",
            "Epoch 7/10\n",
            "308/308 [==============================] - 134s 436ms/step - loss: 1.5047e-16 - acc: 1.0000 - val_loss: 5.4885e-15 - val_acc: 1.0000\n",
            "Epoch 8/10\n",
            "308/308 [==============================] - 134s 434ms/step - loss: 1.5047e-16 - acc: 1.0000 - val_loss: 5.4885e-15 - val_acc: 1.0000\n",
            "Epoch 9/10\n",
            "308/308 [==============================] - 133s 432ms/step - loss: 1.5047e-16 - acc: 1.0000 - val_loss: 5.4885e-15 - val_acc: 1.0000\n",
            "Epoch 10/10\n",
            "308/308 [==============================] - 133s 432ms/step - loss: 1.5047e-16 - acc: 1.0000 - val_loss: 5.4885e-15 - val_acc: 1.0000\n"
          ]
        }
      ]
    },
    {
      "cell_type": "code",
      "metadata": {
        "colab": {
          "base_uri": "https://localhost:8080/",
          "height": 299
        },
        "id": "lvAEewaSVfbb",
        "outputId": "1d60f520-9d2b-462e-ec3a-f0c1ebd3c1bc"
      },
      "source": [
        "%matplotlib inline\n",
        "\n",
        "import matplotlib.pyplot as plt\n",
        "\n",
        "plt.style.use(\"ggplot\")\n",
        "plt.figure()\n",
        "plt.plot(np.arange(0, 10), H.history[\"loss\"], label=\"train_loss\")\n",
        "plt.plot(np.arange(0, 10), H.history[\"val_loss\"], label=\"val_loss\")\n",
        "plt.title(\"Loss Plot\")\n",
        "plt.xlabel(\"Epoch #\")\n",
        "plt.ylabel(\"Loss\")\n",
        "plt.legend()\n",
        "plt.show()"
      ],
      "execution_count": 21,
      "outputs": [
        {
          "output_type": "display_data",
          "data": {
            "image/png": "[encoded data removed]",
            "text/plain": [
              "<Figure size 432x288 with 1 Axes>"
            ]
          },
          "metadata": {}
        }
      ]
    },
    {
      "cell_type": "code",
      "metadata": {
        "colab": {
          "base_uri": "https://localhost:8080/",
          "height": 299
        },
        "id": "wSLl1cohVqsG",
        "outputId": "0184f452-8a21-47ff-b4c3-a04468911031"
      },
      "source": [
        "plt.style.use(\"ggplot\")\n",
        "plt.figure()\n",
        "plt.plot(np.arange(0, 10), H.history[\"acc\"], label=\"train_acc\")\n",
        "plt.plot(np.arange(0, 10), H.history[\"val_acc\"], label=\"val_acc\")\n",
        "plt.title(\"Accuracy Plot\")\n",
        "plt.xlabel(\"Epoch #\")\n",
        "plt.ylabel(\"Acc\")\n",
        "plt.legend()\n",
        "plt.show()"
      ],
      "execution_count": 22,
      "outputs": [
        {
          "output_type": "display_data",
          "data": {
            "image/png": "[encoded data removed]",
            "text/plain": [
              "<Figure size 432x288 with 1 Axes>"
            ]
          },
          "metadata": {}
        }
      ]
    },
    {
      "cell_type": "code",
      "metadata": {
        "colab": {
          "base_uri": "https://localhost:8080/"
        },
        "id": "TBIQ3chbVtGs",
        "outputId": "5d6478c3-469a-407f-ee99-387f0a0461db"
      },
      "source": [
        "from sklearn.metrics import classification_report\n",
        "\n",
        "pred = model.predict(x_val)\n",
        "labels = (pred > 0.5).astype(np.int)\n",
        "\n",
        "print(classification_report(y_val, labels))"
      ],
      "execution_count": 23,
      "outputs": [
        {
          "output_type": "stream",
          "name": "stdout",
          "text": [
            "              precision    recall  f1-score   support\n",
            "\n",
            "           0       1.00      1.00      1.00      1020\n",
            "\n",
            "    accuracy                           1.00      1020\n",
            "   macro avg       1.00      1.00      1.00      1020\n",
            "weighted avg       1.00      1.00      1.00      1020\n",
            "\n"
          ]
        }
      ]
    }
  ]
}